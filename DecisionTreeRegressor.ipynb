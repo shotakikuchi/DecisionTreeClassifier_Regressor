{
 "cells": [
  {
   "cell_type": "markdown",
   "metadata": {},
   "source": [
    "# Decition Tree Regressor\n",
    "https://www.python-course.eu/Regression_Trees.php"
   ]
  },
  {
   "cell_type": "code",
   "execution_count": 1,
   "metadata": {},
   "outputs": [],
   "source": [
    "import pandas as pd\n",
    "import numpy as np"
   ]
  },
  {
   "cell_type": "code",
   "execution_count": 3,
   "metadata": {},
   "outputs": [
    {
     "data": {
      "text/plain": [
       "232.5581395348837"
      ]
     },
     "execution_count": 3,
     "metadata": {},
     "output_type": "execute_result"
    }
   ],
   "source": [
    "100000000 / 430000"
   ]
  },
  {
   "cell_type": "code",
   "execution_count": 14,
   "metadata": {},
   "outputs": [],
   "source": [
    "import pandas as pd\n",
    "import numpy as np\n",
    "from pprint import pprint\n",
    "import matplotlib.pyplot as plt\n",
    "from matplotlib import style\n",
    "style.use(\"fivethirtyeight\")"
   ]
  },
  {
   "cell_type": "code",
   "execution_count": 15,
   "metadata": {},
   "outputs": [],
   "source": [
    "df = pd.read_csv('UCI_BikeSharing_day.csv', usecols=['season', 'holiday', 'weekday', 'workingday', 'weathersit', 'cnt'])"
   ]
  },
  {
   "cell_type": "code",
   "execution_count": 13,
   "metadata": {},
   "outputs": [
    {
     "data": {
      "text/html": [
       "<div>\n",
       "<style scoped>\n",
       "    .dataframe tbody tr th:only-of-type {\n",
       "        vertical-align: middle;\n",
       "    }\n",
       "\n",
       "    .dataframe tbody tr th {\n",
       "        vertical-align: top;\n",
       "    }\n",
       "\n",
       "    .dataframe thead th {\n",
       "        text-align: right;\n",
       "    }\n",
       "</style>\n",
       "<table border=\"1\" class=\"dataframe\">\n",
       "  <thead>\n",
       "    <tr style=\"text-align: right;\">\n",
       "      <th></th>\n",
       "      <th>season</th>\n",
       "      <th>holiday</th>\n",
       "      <th>weekday</th>\n",
       "      <th>workingday</th>\n",
       "      <th>weathersit</th>\n",
       "      <th>cnt</th>\n",
       "    </tr>\n",
       "  </thead>\n",
       "  <tbody>\n",
       "    <tr>\n",
       "      <th>35</th>\n",
       "      <td>1</td>\n",
       "      <td>0</td>\n",
       "      <td>6</td>\n",
       "      <td>0</td>\n",
       "      <td>2</td>\n",
       "      <td>1005</td>\n",
       "    </tr>\n",
       "    <tr>\n",
       "      <th>189</th>\n",
       "      <td>3</td>\n",
       "      <td>0</td>\n",
       "      <td>6</td>\n",
       "      <td>0</td>\n",
       "      <td>1</td>\n",
       "      <td>5336</td>\n",
       "    </tr>\n",
       "    <tr>\n",
       "      <th>131</th>\n",
       "      <td>2</td>\n",
       "      <td>0</td>\n",
       "      <td>4</td>\n",
       "      <td>1</td>\n",
       "      <td>1</td>\n",
       "      <td>4864</td>\n",
       "    </tr>\n",
       "    <tr>\n",
       "      <th>427</th>\n",
       "      <td>1</td>\n",
       "      <td>0</td>\n",
       "      <td>6</td>\n",
       "      <td>0</td>\n",
       "      <td>2</td>\n",
       "      <td>4066</td>\n",
       "    </tr>\n",
       "    <tr>\n",
       "      <th>582</th>\n",
       "      <td>3</td>\n",
       "      <td>0</td>\n",
       "      <td>0</td>\n",
       "      <td>0</td>\n",
       "      <td>1</td>\n",
       "      <td>5464</td>\n",
       "    </tr>\n",
       "  </tbody>\n",
       "</table>\n",
       "</div>"
      ],
      "text/plain": [
       "     season  holiday  weekday  workingday  weathersit   cnt\n",
       "35        1        0        6           0           2  1005\n",
       "189       3        0        6           0           1  5336\n",
       "131       2        0        4           1           1  4864\n",
       "427       1        0        6           0           2  4066\n",
       "582       3        0        0           0           1  5464"
      ]
     },
     "execution_count": 13,
     "metadata": {},
     "output_type": "execute_result"
    }
   ],
   "source": [
    "df.sample(frac=1).head()"
   ]
  },
  {
   "cell_type": "code",
   "execution_count": 18,
   "metadata": {},
   "outputs": [
    {
     "name": "stdout",
     "output_type": "stream",
     "text": [
      "4504.3488372093025\n"
     ]
    }
   ],
   "source": [
    "mean_data = np.mean(df['cnt'])\n",
    "print(mean_data)"
   ]
  },
  {
   "cell_type": "code",
   "execution_count": 96,
   "metadata": {},
   "outputs": [
    {
     "data": {
      "text/plain": [
       "{'season': {1: {'weathersit': {1.0: {'workingday': {0.0: 2328.9736842105262,\n",
       "      1.0: 3117.1857142857143}},\n",
       "    2.0: 2385.3898305084745,\n",
       "    3.0: 1099.3333333333333}},\n",
       "  2: {'weathersit': {1.0: 5219.677419354839,\n",
       "    2.0: 4086.7419354838707,\n",
       "    3.0: 1169.0}},\n",
       "  3: 4464.36170212766,\n",
       "  4: 3664.4606741573034}}"
      ]
     },
     "execution_count": 96,
     "metadata": {},
     "output_type": "execute_result"
    }
   ],
   "source": [
    "tree"
   ]
  },
  {
   "cell_type": "code",
   "execution_count": 24,
   "metadata": {},
   "outputs": [],
   "source": [
    "\"\"\"\n",
    "Calculate the variance of a dataset\n",
    "This function takes three arguments.\n",
    "\n",
    "1. data = The dataset for whose feature the Variance should be calculated\n",
    "2. split_attribute_name = the name of the feature for which the weighted variance should be calculated\n",
    "3. targert_name = the name of the target feature. The default for this example is 'cnt'\n",
    "\"\"\"\n",
    "def var(data, split_attribute_name, target_name='cnt'):\n",
    "    feature_values = np.unique(data[split_attribute_name])\n",
    "    feature_variance = 0\n",
    "    for value in feature_values:\n",
    "        subset = data.query('{0} == {1}'.format(split_attribute_name, value)).reset_index()\n",
    "        value_var = (len(subset) / len(data)) * np.var(subset[target_name], ddof=1)\n",
    "        \n",
    "        feature_variance += value_var\n",
    "    return feature_variance\n"
   ]
  },
  {
   "cell_type": "code",
   "execution_count": 75,
   "metadata": {},
   "outputs": [
    {
     "name": "stdout",
     "output_type": "stream",
     "text": [
      "feature_values: [1 2 3 4]\n",
      "485267.6699802401\n",
      "724003.1950169316\n",
      "548059.1311513785\n",
      "703402.4381815793\n",
      "2460732.43433013\n"
     ]
    }
   ],
   "source": [
    "# debug\n",
    "split_attribute_name = 'season'\n",
    "target_name='cnt'\n",
    "\n",
    "feature_values = np.unique(df[split_attribute_name])\n",
    "print('feature_values:', feature_values)\n",
    "feature_variance = 0\n",
    "for value in feature_values:\n",
    "    subset = df.query('{0} == {1}'.format(split_attribute_name, value)).reset_index()\n",
    "#     print(subset)\n",
    "    value_var = (len(subset) / len(df)) * np.var(subset[target_name], ddof=1)\n",
    "    print(value_var)\n",
    "    feature_variance += value_var\n",
    "print(feature_variance)"
   ]
  },
  {
   "cell_type": "code",
   "execution_count": 50,
   "metadata": {},
   "outputs": [],
   "source": [
    "def Classification(data, originaldata, features, min_instances, target_attribute_name, parent_node_class= None):\n",
    "    \"\"\"\n",
    "    Classification Algorithm: This function takes the same 5 parameters as the original classsification algorithm in the \n",
    "    previous chapter plus one parameter (min_instances) which defines the number of minimal instances per node as early stopping criterion\n",
    "    \"\"\"\n",
    "    # Define the stopping criteria --> If one of this is satisfied, we want to return a leaf node#\n",
    "    \n",
    "        \n",
    "    #########This criterion is new########################\n",
    "    #If all target_values have the same value, return the mean value of the target feature for this dataset\n",
    "    if len(data) <= int(min_instances):\n",
    "        return np.mean(data[target_attribute_name])\n",
    "    ######################################################\n",
    "    \n",
    "    elif len(data) == 0:\n",
    "        return np.mean(originaldata[target_attribute_name])\n",
    "\n",
    "    # If the feature space is empty, return the mean target feature value of the direct parent node --> Note that\n",
    "    \n",
    "    # the direct parent node is that node which has called the current run of the algorithm and hence\n",
    "    # the mean target feature value is stored in the parent_node_class variable.\n",
    "    elif len(features) == 0:\n",
    "        return parent_node_class\n",
    "    \n",
    "    else: \n",
    "        parent_node_class = np.mean(data[target_attribute_name])\n",
    "        item_values = [var(data, feature) for feature in features]\n",
    "        best_feature_index = np.argmin(item_values)\n",
    "        best_feature = features[best_feature_index]\n",
    "        \n",
    "        tree = {best_feature: {}}\n",
    "        \n",
    "        \n",
    "        features = [i for i in features if i != best_feature]\n",
    "        \n",
    "        for value in np.unique(data[best_feature]):\n",
    "            value = value\n",
    "            \n",
    "            sub_data = data.where(data[best_feature] == value).dropna()\n",
    "            \n",
    "            subtree = Classification(sub_data, originaldata, features, min_instances, 'cnt', parent_node_class=parent_node_class)\n",
    "            \n",
    "            tree[best_feature][value] = subtree\n",
    "\n",
    "        return tree"
   ]
  },
  {
   "cell_type": "code",
   "execution_count": 81,
   "metadata": {},
   "outputs": [
    {
     "name": "stdout",
     "output_type": "stream",
     "text": [
      "1\n"
     ]
    },
    {
     "data": {
      "text/html": [
       "<div>\n",
       "<style scoped>\n",
       "    .dataframe tbody tr th:only-of-type {\n",
       "        vertical-align: middle;\n",
       "    }\n",
       "\n",
       "    .dataframe tbody tr th {\n",
       "        vertical-align: top;\n",
       "    }\n",
       "\n",
       "    .dataframe thead th {\n",
       "        text-align: right;\n",
       "    }\n",
       "</style>\n",
       "<table border=\"1\" class=\"dataframe\">\n",
       "  <thead>\n",
       "    <tr style=\"text-align: right;\">\n",
       "      <th></th>\n",
       "      <th>season</th>\n",
       "      <th>holiday</th>\n",
       "      <th>weekday</th>\n",
       "      <th>workingday</th>\n",
       "      <th>weathersit</th>\n",
       "      <th>cnt</th>\n",
       "    </tr>\n",
       "  </thead>\n",
       "  <tbody>\n",
       "    <tr>\n",
       "      <th>0</th>\n",
       "      <td>1.0</td>\n",
       "      <td>0.0</td>\n",
       "      <td>6.0</td>\n",
       "      <td>0.0</td>\n",
       "      <td>2.0</td>\n",
       "      <td>985.0</td>\n",
       "    </tr>\n",
       "    <tr>\n",
       "      <th>1</th>\n",
       "      <td>1.0</td>\n",
       "      <td>0.0</td>\n",
       "      <td>0.0</td>\n",
       "      <td>0.0</td>\n",
       "      <td>2.0</td>\n",
       "      <td>801.0</td>\n",
       "    </tr>\n",
       "    <tr>\n",
       "      <th>2</th>\n",
       "      <td>1.0</td>\n",
       "      <td>0.0</td>\n",
       "      <td>1.0</td>\n",
       "      <td>1.0</td>\n",
       "      <td>1.0</td>\n",
       "      <td>1349.0</td>\n",
       "    </tr>\n",
       "    <tr>\n",
       "      <th>3</th>\n",
       "      <td>1.0</td>\n",
       "      <td>0.0</td>\n",
       "      <td>2.0</td>\n",
       "      <td>1.0</td>\n",
       "      <td>1.0</td>\n",
       "      <td>1562.0</td>\n",
       "    </tr>\n",
       "    <tr>\n",
       "      <th>4</th>\n",
       "      <td>1.0</td>\n",
       "      <td>0.0</td>\n",
       "      <td>3.0</td>\n",
       "      <td>1.0</td>\n",
       "      <td>1.0</td>\n",
       "      <td>1600.0</td>\n",
       "    </tr>\n",
       "  </tbody>\n",
       "</table>\n",
       "</div>"
      ],
      "text/plain": [
       "   season  holiday  weekday  workingday  weathersit     cnt\n",
       "0     1.0      0.0      6.0         0.0         2.0   985.0\n",
       "1     1.0      0.0      0.0         0.0         2.0   801.0\n",
       "2     1.0      0.0      1.0         1.0         1.0  1349.0\n",
       "3     1.0      0.0      2.0         1.0         1.0  1562.0\n",
       "4     1.0      0.0      3.0         1.0         1.0  1600.0"
      ]
     },
     "execution_count": 81,
     "metadata": {},
     "output_type": "execute_result"
    }
   ],
   "source": [
    "# debug\n",
    "best_feature = 'season'\n",
    "for value in np.unique(df[best_feature]):\n",
    "    print(value)\n",
    "    sub_data = df.where(df[best_feature] == value).dropna()\n",
    "    break\n",
    "sub_data.head()"
   ]
  },
  {
   "cell_type": "code",
   "execution_count": 55,
   "metadata": {},
   "outputs": [],
   "source": [
    "def predict(query, tree, default = mean_data):\n",
    "    for key in list(query.keys()):\n",
    "        if key in list(tree.keys()):\n",
    "            try:\n",
    "                result = tree[key][query[key]]\n",
    "            except:\n",
    "                return default\n",
    "            result = tree[key][query[key]]\n",
    "            if isinstance(result, dict):\n",
    "                return predict(query, result)\n",
    "            else:\n",
    "                return result"
   ]
  },
  {
   "cell_type": "code",
   "execution_count": 56,
   "metadata": {},
   "outputs": [],
   "source": [
    "def train_test_split(dataset):\n",
    "    training_data = dataset.iloc[:int(0.7*len(dataset))].reset_index(drop=True)#We drop the index respectively relabel the index\n",
    "    #starting form 0, because we do not want to run into errors regarding the row labels / indexes\n",
    "    testing_data = dataset.iloc[int(0.7*len(dataset)):].reset_index(drop=True)\n",
    "    return training_data,testing_data\n",
    "training_data = train_test_split(df)[0]\n",
    "testing_data = train_test_split(df)[1]"
   ]
  },
  {
   "cell_type": "code",
   "execution_count": 57,
   "metadata": {},
   "outputs": [],
   "source": [
    "def test(data,tree):\n",
    "    #Create new query instances by simply removing the target feature column from the original dataset and \n",
    "    #convert it to a dictionary\n",
    "    queries = data.iloc[:,:-1].to_dict(orient = \"records\")\n",
    "    \n",
    "    #Create a empty DataFrame in whose columns the prediction of the tree are stored\n",
    "    predicted = []\n",
    "    #Calculate the RMSE\n",
    "    for i in range(len(data)):\n",
    "        predicted.append(predict(queries[i],tree,mean_data)) \n",
    "    RMSE = np.sqrt(np.sum(((data.iloc[:,-1]-predicted)**2)/len(data)))\n",
    "    return RMSE"
   ]
  },
  {
   "cell_type": "code",
   "execution_count": 88,
   "metadata": {},
   "outputs": [
    {
     "data": {
      "text/plain": [
       "{'holiday': 0, 'season': 1, 'weathersit': 2, 'weekday': 6, 'workingday': 0}"
      ]
     },
     "execution_count": 88,
     "metadata": {},
     "output_type": "execute_result"
    }
   ],
   "source": [
    "# debug\n",
    "queries = df.iloc[:,:-1].to_dict(orient = \"records\")\n",
    "queries[0]"
   ]
  },
  {
   "cell_type": "code",
   "execution_count": 89,
   "metadata": {},
   "outputs": [
    {
     "data": {
      "text/plain": [
       "{'season': {1: {'weathersit': {1.0: {'workingday': {0.0: 2328.9736842105262,\n",
       "      1.0: 3117.1857142857143}},\n",
       "    2.0: 2385.3898305084745,\n",
       "    3.0: 1099.3333333333333}},\n",
       "  2: {'weathersit': {1.0: 5219.677419354839,\n",
       "    2.0: 4086.7419354838707,\n",
       "    3.0: 1169.0}},\n",
       "  3: 4464.36170212766,\n",
       "  4: 3664.4606741573034}}"
      ]
     },
     "execution_count": 89,
     "metadata": {},
     "output_type": "execute_result"
    }
   ],
   "source": [
    "tree"
   ]
  },
  {
   "cell_type": "code",
   "execution_count": 58,
   "metadata": {
    "collapsed": true
   },
   "outputs": [
    {
     "name": "stdout",
     "output_type": "stream",
     "text": [
      "{'season': {1: {'weathersit': {1.0: {'workingday': {0.0: {'holiday': {0.0: {'weekday': {0.0: 2347.235294117647,\n",
      "                                                                                        6.0: 2347.235294117647}},\n",
      "                                                                      1.0: 2173.75}},\n",
      "                                                    1.0: {'holiday': {0.0: {'weekday': {1.0: 3117.1857142857143,\n",
      "                                                                                        2.0: 3117.1857142857143,\n",
      "                                                                                        3.0: 3117.1857142857143,\n",
      "                                                                                        4.0: 3117.1857142857143,\n",
      "                                                                                        5.0: 3117.1857142857143}}}}}},\n",
      "                               2.0: {'holiday': {0.0: {'weekday': {0.0: {'workingday': {0.0: 2485.1666666666665}},\n",
      "                                                                   1.0: 1938.75,\n",
      "                                                                   2.0: {'workingday': {1.0: 1920.75}},\n",
      "                                                                   3.0: {'workingday': {1.0: 2070.5}},\n",
      "                                                                   4.0: {'workingday': {1.0: 3105.714285714286}},\n",
      "                                                                   5.0: {'workingday': {1.0: 2757.3076923076924}},\n",
      "                                                                   6.0: {'workingday': {0.0: 2478.777777777778}}}},\n",
      "                                                 1.0: 1053.5}},\n",
      "                               3.0: 1099.3333333333333}},\n",
      "            2: {'weathersit': {1.0: {'weekday': {0.0: {'holiday': {0.0: {'workingday': {0.0: 5189.636363636364}}}},\n",
      "                                                 1.0: {'holiday': {0.0: {'workingday': {1.0: 4328.363636363636}},\n",
      "                                                                   1.0: 5234.0}},\n",
      "                                                 2.0: {'holiday': {0.0: {'workingday': {1.0: 4846.083333333333}}}},\n",
      "                                                 3.0: {'holiday': {0.0: {'workingday': {1.0: 5189.833333333333}}}},\n",
      "                                                 4.0: {'holiday': {0.0: {'workingday': {1.0: 5446.666666666667}}}},\n",
      "                                                 5.0: {'holiday': {0.0: {'workingday': {1.0: 5614.4375}},\n",
      "                                                                   1.0: 3126.0}},\n",
      "                                                 6.0: {'holiday': {0.0: {'workingday': {0.0: 5782.7692307692305}}}}}},\n",
      "                               2.0: {'holiday': {0.0: {'workingday': {0.0: {'weekday': {0.0: 4255.055555555556,\n",
      "                                                                                        6.0: 4255.055555555556}},\n",
      "                                                                      1.0: {'weekday': {1.0: 4017.8863636363635,\n",
      "                                                                                        2.0: 4017.8863636363635,\n",
      "                                                                                        3.0: 4017.8863636363635,\n",
      "                                                                                        4.0: 4017.8863636363635,\n",
      "                                                                                        5.0: 4017.8863636363635}}}}}},\n",
      "                               3.0: 1169.0}},\n",
      "            3: {'weathersit': {1.0: {'weekday': {0.0: {'holiday': {0.0: {'workingday': {0.0: 4513.454545454545}}}},\n",
      "                                                 1.0: {'holiday': {0.0: {'workingday': {1.0: 4379.888888888889}}}},\n",
      "                                                 2.0: {'holiday': {0.0: {'workingday': {1.0: 4794.181818181818}}}},\n",
      "                                                 3.0: {'holiday': {0.0: {'workingday': {1.0: 4739.818181818182}}}},\n",
      "                                                 4.0: {'holiday': {0.0: {'workingday': {1.0: 4756.142857142857}}}},\n",
      "                                                 5.0: {'holiday': {0.0: {'workingday': {1.0: 4694.5}}}},\n",
      "                                                 6.0: {'holiday': {0.0: {'workingday': {0.0: 4928.888888888889}}}}}},\n",
      "                               2.0: {'workingday': {0.0: {'holiday': {0.0: {'weekday': {0.0: 4234.5,\n",
      "                                                                                        6.0: 3517.5}},\n",
      "                                                                      1.0: 4697.0}},\n",
      "                                                    1.0: {'holiday': {0.0: {'weekday': {1.0: 4623.5,\n",
      "                                                                                        2.0: 4238.0,\n",
      "                                                                                        3.0: 3963.0,\n",
      "                                                                                        4.0: 4236.411764705882,\n",
      "                                                                                        5.0: 4244.8}}}}}},\n",
      "                               3.0: 2182.6666666666665}},\n",
      "            4: {'weathersit': {1.0: {'workingday': {0.0: {'weekday': {0.0: {'holiday': {0.0: 3736.0}},\n",
      "                                                                      1.0: 5117.0,\n",
      "                                                                      4.0: 1495.0,\n",
      "                                                                      5.0: 3368.0,\n",
      "                                                                      6.0: {'holiday': {0.0: 4051.3333333333335}}}},\n",
      "                                                    1.0: {'holiday': {0.0: {'weekday': {1.0: 4075.233333333333,\n",
      "                                                                                        2.0: 4187.8,\n",
      "                                                                                        3.0: 4183.5,\n",
      "                                                                                        4.0: 4075.233333333333,\n",
      "                                                                                        5.0: 4075.233333333333}}}}}},\n",
      "                               2.0: {'holiday': {0.0: {'workingday': {0.0: {'weekday': {0.0: 3816.0,\n",
      "                                                                                        6.0: 3530.3333333333335}},\n",
      "                                                                      1.0: {'weekday': {1.0: 4003.6666666666665,\n",
      "                                                                                        2.0: 3612.3478260869565,\n",
      "                                                                                        3.0: 3526.75,\n",
      "                                                                                        4.0: 3053.4,\n",
      "                                                                                        5.0: 3481.8}}}}}},\n",
      "                               3.0: {'weekday': {1.0: 2765.0,\n",
      "                                                 2.0: 2100.5,\n",
      "                                                 3.0: 1840.5,\n",
      "                                                 6.0: 627.0}}}}}}\n",
      "##################################################\n",
      "Root mean square error (RMSE):  2353.8730621321206\n"
     ]
    }
   ],
   "source": [
    "tree = Classification(training_data,training_data,training_data.columns[:-1],5,'cnt')\n",
    "pprint(tree)\n",
    "print('#'*50)\n",
    "print('Root mean square error (RMSE): ',test(testing_data,tree))"
   ]
  },
  {
   "cell_type": "code",
   "execution_count": 59,
   "metadata": {},
   "outputs": [
    {
     "data": {
      "image/png": "[encoded data removed]",
      "text/plain": [
       "<Figure size 432x288 with 1 Axes>"
      ]
     },
     "metadata": {},
     "output_type": "display_data"
    }
   ],
   "source": [
    "\"\"\"\n",
    "Plot the RMSE with respect to the minimum number of instances\n",
    "\"\"\" \n",
    "fig = plt.figure()\n",
    "ax0 = fig.add_subplot(111) \n",
    "RMSE_test = []\n",
    "RMSE_train = []\n",
    "for i in range(1,100):\n",
    "    tree = Classification(training_data,training_data,training_data.columns[:-1],i,'cnt')\n",
    "    RMSE_test.append(test(testing_data,tree)) \n",
    "    RMSE_train.append(test(training_data,tree))\n",
    "   \n",
    "ax0.plot(range(1,100),RMSE_test,label='Test_Data')\n",
    "ax0.plot(range(1,100),RMSE_train,label='Train_Data')\n",
    "ax0.legend()\n",
    "ax0.set_title('RMSE with respect to the minumim number of instances per node')\n",
    "ax0.set_xlabel('#Instances')\n",
    "ax0.set_ylabel('RMSE')\n",
    "plt.show()"
   ]
  }
 ],
 "metadata": {
  "kernelspec": {
   "display_name": "Python 3",
   "language": "python",
   "name": "python3"
  },
  "language_info": {
   "codemirror_mode": {
    "name": "ipython",
    "version": 3
   },
   "file_extension": ".py",
   "mimetype": "text/x-python",
   "name": "python",
   "nbconvert_exporter": "python",
   "pygments_lexer": "ipython3",
   "version": "3.5.1"
  }
 },
 "nbformat": 4,
 "nbformat_minor": 2
}
